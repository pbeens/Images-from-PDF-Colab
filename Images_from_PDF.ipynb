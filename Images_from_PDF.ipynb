{
  "nbformat": 4,
  "nbformat_minor": 0,
  "metadata": {
    "colab": {
      "name": "Images from PDF.ipynb",
      "provenance": [],
      "authorship_tag": "ABX9TyMZHMK227owgTFsy1ZRY/jM",
      "include_colab_link": true
    },
    "kernelspec": {
      "name": "python3",
      "display_name": "Python 3"
    },
    "language_info": {
      "name": "python"
    }
  },
  "cells": [
    {
      "cell_type": "markdown",
      "metadata": {
        "id": "view-in-github",
        "colab_type": "text"
      },
      "source": [
        "<a href=\"https://colab.research.google.com/github/pbeens/Images-from-PDF-Colab/blob/main/Images_from_PDF.ipynb\" target=\"_parent\"><img src=\"https://colab.research.google.com/assets/colab-badge.svg\" alt=\"Open In Colab\"/></a>"
      ]
    },
    {
      "cell_type": "markdown",
      "source": [
        "Adapted from https://www.thepythoncode.com/article/extract-pdf-images-in-python\n",
        "\n",
        "Changes:\n",
        "\n",
        "* make a directory for the images\n",
        "* getImageList() was deprecated; replaced with get_images()\n",
        "* images now saved to images folder\n",
        "* images folder can be zipped for downloading\n",
        "\n",
        "Note: You must manually upload the PDF you want to extract the images from and enter the path in the \"`file =`\" line below.\n",
        "\n",
        "The URL of this notebook in Colab is: https://colab.research.google.com/drive/1V_8JYeRGpXFxVrSUv2eLikz3C4frU-1f?usp=sharing\n",
        "\n",
        "This notebook is also stored in GitHub here: https://github.com/pbeens/Images-from-PDF-Colab"
      ],
      "metadata": {
        "id": "6lmPY_LVoxma"
      }
    },
    {
      "cell_type": "code",
      "source": [
        "# must download the library first; not part of standard Python\n",
        "!pip3 -q install PyMuPDF Pillow"
      ],
      "metadata": {
        "id": "1lDigg4Kr0on"
      },
      "execution_count": null,
      "outputs": []
    },
    {
      "cell_type": "code",
      "source": [
        "# create the folder for the images\n",
        "!mkdir 'images'"
      ],
      "metadata": {
        "id": "8KPioBmk8_jd"
      },
      "execution_count": null,
      "outputs": []
    },
    {
      "cell_type": "code",
      "execution_count": null,
      "metadata": {
        "id": "9GIL1vTHot1R"
      },
      "outputs": [],
      "source": [
        "import fitz # PyMuPDF\n",
        "import io\n",
        "from PIL import Image"
      ]
    },
    {
      "cell_type": "code",
      "source": [
        "# file path you want to extract images from\n",
        "file = \"/content/Math Adventures with Python - Peter Farrell.pdf\"\n",
        "# open the file\n",
        "pdf_file = fitz.open(file)"
      ],
      "metadata": {
        "id": "APQQxv8Xo29O"
      },
      "execution_count": null,
      "outputs": []
    },
    {
      "cell_type": "code",
      "source": [
        "# iterate over PDF pages\n",
        "for page_index in range(len(pdf_file)):\n",
        "    # get the page itself\n",
        "    page = pdf_file[page_index]\n",
        "    image_list = page.get_images() # changed from original - was getImageList()\n",
        "    # printing number of images found in this page\n",
        "    if image_list:\n",
        "        print(f\"[+] Found a total of {len(image_list)} images in page {page_index}\")\n",
        "    else:\n",
        "        print(\"[!] No images found on page\", page_index)\n",
        "    for image_index, img in enumerate(page.getImageList(), start=1):\n",
        "        # get the XREF of the image\n",
        "        xref = img[0]\n",
        "        # extract the image bytes\n",
        "        base_image = pdf_file.extractImage(xref)\n",
        "        image_bytes = base_image[\"image\"]\n",
        "        # get the image extension\n",
        "        image_ext = base_image[\"ext\"]\n",
        "        # load it to PIL\n",
        "        image = Image.open(io.BytesIO(image_bytes))\n",
        "        # save it to local disk\n",
        "        path = '/content/images/'\n",
        "        image.save(open(f\"{path}image{page_index+1}_{image_index}.{image_ext}\", \"wb\"))"
      ],
      "metadata": {
        "id": "3XyctQx8sDt6"
      },
      "execution_count": null,
      "outputs": []
    },
    {
      "cell_type": "code",
      "source": [
        "# zip the files for download\n",
        "import shutil\n",
        "shutil.make_archive('images', 'zip', '/content/images')"
      ],
      "metadata": {
        "id": "nqNLdWvm9aGi"
      },
      "execution_count": null,
      "outputs": []
    }
  ]
}